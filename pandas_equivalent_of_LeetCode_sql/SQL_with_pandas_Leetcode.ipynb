{
 "cells": [
  {
   "cell_type": "code",
   "execution_count": 1,
   "metadata": {},
   "outputs": [],
   "source": [
    "import pandas as pd"
   ]
  },
  {
   "cell_type": "markdown",
   "metadata": {},
   "source": [
    "### Actors and Directors Who Cooperated At Least Three Times\n",
    "\n",
    "Table: ActorDirector\n",
    "   \n",
    "\n",
    "| Column Name | Type |\n",
    "|-------------|------|\n",
    "| actor_id    | int  |\n",
    "| director_id | int  |\n",
    "| timestamp   | int  |\n",
    "\n",
    "timestamp is the primary key column for this table.\n",
    " \n",
    "\n",
    "Write a SQL query for a report that provides the pairs (actor_id, director_id) where the actor have cooperated with the director at least 3 times.\n",
    "\n",
    "Example:\n",
    "\n",
    "ActorDirector table:  \n",
    " \n",
    "| actor_id    | director_id | timestamp   |  \n",
    "|---------------------------------------|  \n",
    "| 1           | 1           | 0           |  \n",
    "| 1           | 1           | 1           |  \n",
    "| 1           | 1           | 2           |  \n",
    "| 1           | 2           | 3           |  \n",
    "| 1           | 2           | 4           |  \n",
    "| 2           | 1           | 5           |  \n",
    "| 2           | 1           | 6           |  \n",
    "\n",
    "\n",
    "Result table:  \n",
    " \n",
    "| actor_id    | director_id |  \n",
    "|--------------------------|  \n",
    "| 1           | 1           |  \n",
    "  \n",
    "The only pair is (1, 1) where they cooperated exactly 3 times."
   ]
  },
  {
   "cell_type": "code",
   "execution_count": null,
   "metadata": {},
   "outputs": [],
   "source": [
    "# SQL:\n",
    "# SELECT actor_id AS ACTOR_ID, director_id AS DIRECTOR_ID\n",
    "# FROM ActorDirector\n",
    "# GROUP BY actor_id, director_id\n",
    "# HAVING(COUNT(timestamp)>=3)"
   ]
  },
  {
   "cell_type": "code",
   "execution_count": 171,
   "metadata": {},
   "outputs": [
    {
     "data": {
      "text/html": [
       "<div>\n",
       "<style scoped>\n",
       "    .dataframe tbody tr th:only-of-type {\n",
       "        vertical-align: middle;\n",
       "    }\n",
       "\n",
       "    .dataframe tbody tr th {\n",
       "        vertical-align: top;\n",
       "    }\n",
       "\n",
       "    .dataframe thead th {\n",
       "        text-align: right;\n",
       "    }\n",
       "</style>\n",
       "<table border=\"1\" class=\"dataframe\">\n",
       "  <thead>\n",
       "    <tr style=\"text-align: right;\">\n",
       "      <th></th>\n",
       "      <th>actor_id</th>\n",
       "      <th>director_id</th>\n",
       "      <th>timestamp</th>\n",
       "    </tr>\n",
       "  </thead>\n",
       "  <tbody>\n",
       "    <tr>\n",
       "      <th>0</th>\n",
       "      <td>1</td>\n",
       "      <td>1</td>\n",
       "      <td>0</td>\n",
       "    </tr>\n",
       "    <tr>\n",
       "      <th>1</th>\n",
       "      <td>1</td>\n",
       "      <td>1</td>\n",
       "      <td>1</td>\n",
       "    </tr>\n",
       "    <tr>\n",
       "      <th>2</th>\n",
       "      <td>1</td>\n",
       "      <td>1</td>\n",
       "      <td>2</td>\n",
       "    </tr>\n",
       "    <tr>\n",
       "      <th>3</th>\n",
       "      <td>1</td>\n",
       "      <td>2</td>\n",
       "      <td>3</td>\n",
       "    </tr>\n",
       "    <tr>\n",
       "      <th>4</th>\n",
       "      <td>1</td>\n",
       "      <td>2</td>\n",
       "      <td>4</td>\n",
       "    </tr>\n",
       "  </tbody>\n",
       "</table>\n",
       "</div>"
      ],
      "text/plain": [
       "   actor_id  director_id  timestamp\n",
       "0         1            1          0\n",
       "1         1            1          1\n",
       "2         1            1          2\n",
       "3         1            2          3\n",
       "4         1            2          4"
      ]
     },
     "execution_count": 171,
     "metadata": {},
     "output_type": "execute_result"
    }
   ],
   "source": [
    "# Create the sample table\n",
    "ActorDirector = pd.DataFrame({'actor_id':[1, 1, 1, 1, 1, 2, 2],\n",
    "                 'director_id':[1, 1, 1, 2, 2, 1, 1],\n",
    "                'timestamp':[0, 1, 2, 3, 4, 5, 6]})\n",
    "\n",
    "ActorDirector.head()"
   ]
  },
  {
   "cell_type": "code",
   "execution_count": 173,
   "metadata": {},
   "outputs": [
    {
     "data": {
      "text/html": [
       "<div>\n",
       "<style scoped>\n",
       "    .dataframe tbody tr th:only-of-type {\n",
       "        vertical-align: middle;\n",
       "    }\n",
       "\n",
       "    .dataframe tbody tr th {\n",
       "        vertical-align: top;\n",
       "    }\n",
       "\n",
       "    .dataframe thead th {\n",
       "        text-align: right;\n",
       "    }\n",
       "</style>\n",
       "<table border=\"1\" class=\"dataframe\">\n",
       "  <thead>\n",
       "    <tr style=\"text-align: right;\">\n",
       "      <th></th>\n",
       "      <th>actor_id</th>\n",
       "      <th>director_id</th>\n",
       "    </tr>\n",
       "  </thead>\n",
       "  <tbody>\n",
       "    <tr>\n",
       "      <th>0</th>\n",
       "      <td>1</td>\n",
       "      <td>1</td>\n",
       "    </tr>\n",
       "  </tbody>\n",
       "</table>\n",
       "</div>"
      ],
      "text/plain": [
       "   actor_id  director_id\n",
       "0         1            1"
      ]
     },
     "execution_count": 173,
     "metadata": {},
     "output_type": "execute_result"
    }
   ],
   "source": [
    "# groupby 'actor_id' and 'director_id', \n",
    "# counting the number of elements per group, \n",
    "# reseting the index to remove the nested columns \n",
    "temp1 = ActorDirector.groupby(by=['actor_id', 'director_id']).count().reset_index()\n",
    "\n",
    "# filter: keep groups who have more than 2 instances,\n",
    "# display the output\n",
    "grouped = temp1.loc[temp1.timestamp>=3, ['actor_id', 'director_id']]\n",
    "grouped"
   ]
  },
  {
   "cell_type": "code",
   "execution_count": null,
   "metadata": {},
   "outputs": [],
   "source": []
  }
 ],
 "metadata": {
  "kernelspec": {
   "display_name": "Python 3",
   "language": "python",
   "name": "python3"
  },
  "language_info": {
   "codemirror_mode": {
    "name": "ipython",
    "version": 3
   },
   "file_extension": ".py",
   "mimetype": "text/x-python",
   "name": "python",
   "nbconvert_exporter": "python",
   "pygments_lexer": "ipython3",
   "version": "3.6.5"
  }
 },
 "nbformat": 4,
 "nbformat_minor": 2
}
